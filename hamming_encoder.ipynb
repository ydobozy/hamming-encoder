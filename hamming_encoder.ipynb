{
 "cells": [
  {
   "cell_type": "code",
   "execution_count": 6,
   "metadata": {},
   "outputs": [
    {
     "name": "stdout",
     "output_type": "stream",
     "text": [
      "Number of positions needed:  4\n",
      "10001100101\n"
     ]
    }
   ],
   "source": [
    "def hammingEncode(num):\n",
    "    try:\n",
    "        int(num, 2) # check if poss to convert input base 2 to decimal (1 operation only)\n",
    "    except:\n",
    "            return \"Error: Input must be binary!\"\n",
    "    # find number of parity bits needed in the binary sequence        \n",
    "    nbrparitybits = 0\n",
    "    #print(len(num))\n",
    "    while 2.**nbrparitybits <= len(num) +nbrparitybits:\n",
    "        nbrparitybits+=1\n",
    "        \n",
    "    print(\"Number of positions needed: \",nbrparitybits)\n",
    "    #Create the new data word, setting the parity bits to 0\n",
    "    encoded=[]\n",
    "    j=0\n",
    "    k=0\n",
    "    for i in range(len(num)+nbrparitybits): #lenght of the output sequence\n",
    "        if i+1 == 2**(j):   #if index is a parity bit index, value set to 0\n",
    "            encoded.append(0)\n",
    "            j+=1\n",
    "        else:\n",
    "            encoded.append(int(num[k]))\n",
    "            k+=1   #else next value taken from input\n",
    "    \n",
    "    # Calculate the parity for each parity bit\n",
    "    # sum values that covers all redundant bit at i position whose binary representation\n",
    "    #includes a 1 in the ith position. Check parity with mode division\n",
    "    for p in range(nbrparitybits):\n",
    "        sum=0\n",
    "        for index in range(p+1,len(encoded)+1):\n",
    "            index_bin=str(bin(index))\n",
    "            if index_bin[-(p+1)]==\"1\":  # index covering the parity check\n",
    "                sum+=encoded[index-1] # collect value\n",
    "        if sum%2>0:\n",
    "            encoded[(2**p)-1]=1\n",
    "    \n",
    "    encoded_str = [str(int) for int in encoded]         \n",
    "    return ''.join(encoded_str)\n",
    "    \n",
    "print(hammingEncode(\"0110101\"))"
   ]
  },
  {
   "cell_type": "code",
   "execution_count": 7,
   "metadata": {},
   "outputs": [
    {
     "name": "stdout",
     "output_type": "stream",
     "text": [
      "Number of positions needed:  4\n",
      "011100101010\n"
     ]
    }
   ],
   "source": [
    "print(hammingEncode(\"10011010\"))"
   ]
  },
  {
   "cell_type": "code",
   "execution_count": 3,
   "metadata": {},
   "outputs": [],
   "source": []
  },
  {
   "cell_type": "code",
   "execution_count": null,
   "metadata": {},
   "outputs": [],
   "source": []
  },
  {
   "cell_type": "code",
   "execution_count": null,
   "metadata": {},
   "outputs": [],
   "source": []
  }
 ],
 "metadata": {
  "kernelspec": {
   "display_name": "Python 3",
   "language": "python",
   "name": "python3"
  },
  "language_info": {
   "codemirror_mode": {
    "name": "ipython",
    "version": 3
   },
   "file_extension": ".py",
   "mimetype": "text/x-python",
   "name": "python",
   "nbconvert_exporter": "python",
   "pygments_lexer": "ipython3",
   "version": "3.8.5"
  }
 },
 "nbformat": 4,
 "nbformat_minor": 4
}

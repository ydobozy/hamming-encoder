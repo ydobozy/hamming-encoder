{
 "cells": [
  {
   "cell_type": "code",
   "execution_count": 3,
   "metadata": {},
   "outputs": [],
   "source": [
    "def hammingEncode(num):\n",
    "    try:\n",
    "        int(num, 2) # check if poss to convert input base 2 to decimal (1 operation only)\n",
    "    except:\n",
    "            return \"Error: Input must be binary!\"\n",
    "    # find number of parity bits needed in the binary sequence        \n",
    "    nbrparitybits = 0\n",
    "    #print(len(num))\n",
    "    while 2.**nbrparitybits <= len(num) +nbrparitybits:\n",
    "        nbrparitybits+=1\n",
    "        \n",
    "    print(\"Number of positions needed: \",nbrparitybits)\n",
    "    #Create the new data word, setting the parity bits to 0\n",
    "    encoded=[]\n",
    "    j=0\n",
    "    k=0\n",
    "    for i in range(len(num)+nbrparitybits): #lenght of the output sequence\n",
    "        if i+1 == 2**(j):   #if index is a parity bit index, value set to 0\n",
    "            encoded.append(0)\n",
    "            j+=1\n",
    "        else:\n",
    "            encoded.append(int(num[k]))\n",
    "            k+=1   #else next value taken from input\n",
    "    \n",
    "    # Calculate the parity for each parity bit\n",
    "    # sum values that covers all redundant bit at i position whose binary representation\n",
    "    #includes a 1 in the ith position. Check parity with mode division\n",
    "    for p in range(nbrparitybits):\n",
    "        sum=0\n",
    "        for index in range(p+1,len(encoded)+1):\n",
    "            index_bin=str(bin(index))\n",
    "            if index_bin[-(p+1)]==\"1\":  # index covering the parity check\n",
    "                sum+=encoded[index-1] # collect value\n",
    "        if sum%2>0:\n",
    "            encoded[(2**p)-1]=1\n",
    "    \n",
    "    encoded_str = [str(int) for int in encoded]         \n",
    "    return ''.join(encoded_str)\n",
    "    \n"
   ]
  },
  {
   "cell_type": "code",
   "execution_count": 6,
   "metadata": {},
   "outputs": [],
   "source": [
    "def hammingDecode(num):\n",
    "    try:\n",
    "        int(num, 2) # check if poss to convert input base 2 to decimal (1 operation only)\n",
    "    except:\n",
    "            return \"Error: Input must be binary!\"\n",
    "    # find number of parity bits needed in the binary sequence        \n",
    "    nbrparitybits = 0\n",
    "    #print(len(num))\n",
    "    while 2.**nbrparitybits <= len(num):\n",
    "        nbrparitybits+=1\n",
    "        \n",
    "    #Create list with parity bit index to be removed after error detection\n",
    "    index_paritybit=[]\n",
    "    j=0\n",
    "    for i in range(len(num)): #lenght of the output sequence\n",
    "        if i+1 == 2**(j):   #if index is a parity bit index, value set to 0\n",
    "            index_paritybit.append(i)\n",
    "            j+=1\n",
    "    \n",
    "    decoded=list(num)\n",
    "    j=0\n",
    "    k=0\n",
    "    corrupted_bit_index=0\n",
    "    # Calculate the parity for each parity bit\n",
    "    # sum values that covers all redundant bit at i position whose binary representation\n",
    "    #includes a 1 in the ith position. Check parity with mode division\n",
    "    #if parity 1, error detected, parity bit index added to find position\n",
    "    for p in range(nbrparitybits):\n",
    "        sum=0\n",
    "        for index in range(p+1,len(decoded)+1):\n",
    "            index_bin=str(bin(index))\n",
    "            if index_bin[-(p+1)]==\"1\":  # index covering the parity check\n",
    "                sum+=int(decoded[index-1]) # collect value\n",
    "        if sum%2>0:\n",
    "            corrupted_bit_index+=2.**p\n",
    "    #if final corrupted_bit_index different from 0, error detected and index given        \n",
    "    if corrupted_bit_index!=0:\n",
    "        print(\"Error was detected at position: \", int(corrupted_bit_index))\n",
    "        correction=int(decoded[int(corrupted_bit_index)-1])\n",
    "        correction ^= 1 #flip wrong bit\n",
    "        print(\"Bit changed from %d to %d\" %(int(decoded[int(corrupted_bit_index)-1]),correction))\n",
    "        decoded[int(corrupted_bit_index)-1]=correction\n",
    "        \n",
    "    else:\n",
    "        print(\"No error detected\")\n",
    "    \n",
    "    for ele in sorted(index_paritybit, reverse = True): \n",
    "            del decoded[ele] \n",
    "            \n",
    "    decoded_str = [str(int) for int in decoded]         \n",
    "    return ''.join(decoded_str)"
   ]
  },
  {
   "cell_type": "code",
   "execution_count": 7,
   "metadata": {},
   "outputs": [
    {
     "output_type": "stream",
     "name": "stdout",
     "text": [
      "Number of positions needed:  4\nWord 10001100101 encoded is 011000001100101\n"
     ]
    }
   ],
   "source": [
    "codeWord=input(\"Enter the word to encode: \")\n",
    "#\"0110101\" \"10011010\"\n",
    "print(\"Word %s encoded is %s\" %(codeWord,hammingEncode(codeWord)))"
   ]
  },
  {
   "cell_type": "code",
   "execution_count": 9,
   "metadata": {},
   "outputs": [
    {
     "output_type": "stream",
     "name": "stdout",
     "text": [
      "No error detected\nOriginal word is:  0110101\n"
     ]
    }
   ],
   "source": [
    "word_Received=input(\"Enter the word to be checked and decoded: \")\n",
    " \n",
    "print(\"Original word is: \",hammingDecode(word_Received))"
   ]
  },
  {
   "cell_type": "code",
   "execution_count": null,
   "metadata": {},
   "outputs": [],
   "source": []
  },
  {
   "cell_type": "code",
   "execution_count": null,
   "metadata": {},
   "outputs": [],
   "source": []
  }
 ],
 "metadata": {
  "kernelspec": {
   "name": "python388jvsc74a57bd0926b806e7fcdc42198235b11f427b97ac6af613b9be990a0d87badf44bbddb67",
   "display_name": "Python 3.8.8 64-bit ('comp47350py38': conda)"
  },
  "language_info": {
   "codemirror_mode": {
    "name": "ipython",
    "version": 3
   },
   "file_extension": ".py",
   "mimetype": "text/x-python",
   "name": "python",
   "nbconvert_exporter": "python",
   "pygments_lexer": "ipython3",
   "version": "3.8.8"
  }
 },
 "nbformat": 4,
 "nbformat_minor": 4
}